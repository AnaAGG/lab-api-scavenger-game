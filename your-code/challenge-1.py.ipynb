{
 "cells": [
  {
   "cell_type": "code",
   "execution_count": 2,
   "metadata": {},
   "outputs": [],
   "source": [
    "import json\n",
    "import os\n",
    "import requests"
   ]
  },
  {
   "cell_type": "code",
   "execution_count": 3,
   "metadata": {},
   "outputs": [
    {
     "data": {
      "text/plain": [
       "True"
      ]
     },
     "execution_count": 3,
     "metadata": {},
     "output_type": "execute_result"
    }
   ],
   "source": [
    "from dotenv import load_dotenv\n",
    "load_dotenv()"
   ]
  },
  {
   "cell_type": "markdown",
   "metadata": {},
   "source": [
    "## Challenge 1: Fork Languages\n",
    "\n",
    "You will find out how many programming languages are used among all the forks created from the main lab repo of your bootcamp. Assuming the main lab repo is ironhack-datalabs/datamad1020-rev, you will:\n",
    "\n",
    "1. Obtain the full list of forks created from the main lab repo via Github API.\n",
    "\n",
    "2. Loop the JSON response to find out the language attribute of each fork. Use an array to store the language attributes of each fork.\n",
    "\n",
    "Hint: Each language should appear only once in your array.\n",
    "\n",
    "3. Print the language array. It should be something like:\n",
    "\n",
    "[\"Python\", \"Jupyter Notebook\", \"HTML\"]\n"
   ]
  },
  {
   "cell_type": "markdown",
   "metadata": {},
   "source": [
    "**HINT:**: Create a list with every **language_url** you find in every fork "
   ]
  },
  {
   "cell_type": "markdown",
   "metadata": {},
   "source": [
    "⚠️ **Remember to limit your output before submission**."
   ]
  },
  {
   "cell_type": "code",
   "execution_count": 19,
   "metadata": {},
   "outputs": [],
   "source": [
    "#Your code\n",
    "url = \"https://api.github.com/repos/ironhack-datalabs/datamad1020-rev/forks\"\n",
    "\n",
    "token = open(\"../token.txt\").readlines()[0]\n",
    "\n",
    "params = {\"Authorization\": f\"token {token}\"\n",
    "         }"
   ]
  },
  {
   "cell_type": "code",
   "execution_count": 21,
   "metadata": {},
   "outputs": [
    {
     "data": {
      "text/plain": [
       "200"
      ]
     },
     "execution_count": 21,
     "metadata": {},
     "output_type": "execute_result"
    }
   ],
   "source": [
    "response = requests.get(url, headers = params)\n",
    "response.status_code\n"
   ]
  },
  {
   "cell_type": "code",
   "execution_count": 22,
   "metadata": {},
   "outputs": [],
   "source": [
    "res = response.json()"
   ]
  },
  {
   "cell_type": "code",
   "execution_count": 23,
   "metadata": {},
   "outputs": [
    {
     "name": "stdout",
     "output_type": "stream",
     "text": [
      "forks_url https://api.github.com/repos/PaolaKarina/datamad1020-rev/forks\n",
      "forks_url https://api.github.com/repos/VictorRodriguezIronhack/datamad1020-rev/forks\n",
      "forks_url https://api.github.com/repos/sonia-quintanar/datamad1020-rev/forks\n",
      "forks_url https://api.github.com/repos/jperezllorente/datamad1020-rev/forks\n",
      "forks_url https://api.github.com/repos/AnaMA96/datamad1020-rev/forks\n",
      "forks_url https://api.github.com/repos/breogann/datamad1020-rev/forks\n",
      "forks_url https://api.github.com/repos/rafadedubra/datamad1020-rev/forks\n",
      "forks_url https://api.github.com/repos/Nuria-Pe/datamad1020-rev/forks\n",
      "forks_url https://api.github.com/repos/SergioCaler0/datamad1020-rev/forks\n",
      "forks_url https://api.github.com/repos/LucianaLescano/datamad1020-rev/forks\n",
      "forks_url https://api.github.com/repos/Mario-Sainz/datamad1020-rev/forks\n",
      "forks_url https://api.github.com/repos/juanmarin00/datamad1020-rev/forks\n",
      "forks_url https://api.github.com/repos/JoseManuel-G/datamad1020-rev/forks\n",
      "forks_url https://api.github.com/repos/jesus-perez-366/datamad1020-rev/forks\n",
      "forks_url https://api.github.com/repos/sgonzalainen/datamad1020-rev/forks\n",
      "forks_url https://api.github.com/repos/Pptrv/datamad1020-rev/forks\n",
      "forks_url https://api.github.com/repos/Marxess/datamad1020-rev/forks\n",
      "forks_url https://api.github.com/repos/patri-carrasco/datamad1020-rev/forks\n",
      "forks_url https://api.github.com/repos/BlueJotas/datamad1020-rev/forks\n",
      "forks_url https://api.github.com/repos/jvazquezgalvezlp/datamad1020-rev/forks\n",
      "forks_url https://api.github.com/repos/leticia-sobrino/datamad1020-rev/forks\n",
      "forks_url https://api.github.com/repos/JaimeCalcedo/datamad1020-rev/forks\n"
     ]
    }
   ],
   "source": [
    "#Para los forks\n",
    "for dicts in res:\n",
    "    for key, value in dicts.items():\n",
    "        if \"forks_url\" in key:\n",
    "            print(key, value)\n",
    "        "
   ]
  },
  {
   "cell_type": "code",
   "execution_count": 33,
   "metadata": {},
   "outputs": [
    {
     "data": {
      "text/plain": [
       "dict_keys(['id', 'node_id', 'name', 'full_name', 'private', 'owner', 'html_url', 'description', 'fork', 'url', 'forks_url', 'keys_url', 'collaborators_url', 'teams_url', 'hooks_url', 'issue_events_url', 'events_url', 'assignees_url', 'branches_url', 'tags_url', 'blobs_url', 'git_tags_url', 'git_refs_url', 'trees_url', 'statuses_url', 'languages_url', 'stargazers_url', 'contributors_url', 'subscribers_url', 'subscription_url', 'commits_url', 'git_commits_url', 'comments_url', 'issue_comment_url', 'contents_url', 'compare_url', 'merges_url', 'archive_url', 'downloads_url', 'issues_url', 'pulls_url', 'milestones_url', 'notifications_url', 'labels_url', 'releases_url', 'deployments_url', 'created_at', 'updated_at', 'pushed_at', 'git_url', 'ssh_url', 'clone_url', 'svn_url', 'homepage', 'size', 'stargazers_count', 'watchers_count', 'language', 'has_issues', 'has_projects', 'has_downloads', 'has_wiki', 'has_pages', 'forks_count', 'mirror_url', 'archived', 'disabled', 'open_issues_count', 'license', 'forks', 'open_issues', 'watchers', 'default_branch', 'permissions'])"
      ]
     },
     "execution_count": 33,
     "metadata": {},
     "output_type": "execute_result"
    }
   ],
   "source": [
    "#Loop the JSON response to find out the language attribute of each fork. Use an array to store the language attributes of \n",
    "    #each fork.\n",
    "\n",
    "fork = []\n",
    "forks_url = []\n",
    "fork = []\n",
    "forks_count = []\n",
    "    \n",
    "dictionary = res[0]\n",
    "keys = dictionary.keys()\n",
    "\n",
    "if \n",
    "\n",
    "\n"
   ]
  },
  {
   "cell_type": "code",
   "execution_count": 24,
   "metadata": {},
   "outputs": [
    {
     "name": "stdout",
     "output_type": "stream",
     "text": [
      "[None, None, 'Jupyter Notebook', 'Jupyter Notebook', 'Jupyter Notebook', 'Jupyter Notebook', 'Jupyter Notebook', 'Jupyter Notebook', 'Jupyter Notebook', 'Jupyter Notebook', 'Jupyter Notebook', 'Jupyter Notebook', 'Jupyter Notebook', 'Jupyter Notebook', 'Jupyter Notebook', 'Jupyter Notebook', 'Jupyter Notebook', 'Jupyter Notebook', 'Jupyter Notebook', 'Jupyter Notebook', 'Jupyter Notebook', 'Jupyter Notebook']\n"
     ]
    }
   ],
   "source": [
    "#Para los lenguajes:\n",
    "language = []\n",
    "\n",
    "for key in res:\n",
    "    if 'language' in key:\n",
    "        language.append(key[\"language\"])\n",
    "        \n",
    "print(language)\n",
    "       "
   ]
  },
  {
   "cell_type": "markdown",
   "metadata": {},
   "source": [
    "## Challenge 2: Count Commits\n",
    "\n",
    "Count how many commits were made in the past week.\n",
    "\n",
    "Obtain all the commits made in the past week via API, which is a JSON array that contains multiple commit objects.\n",
    "\n",
    "Count how many commit objects are contained in the array.\n",
    "\n"
   ]
  },
  {
   "cell_type": "markdown",
   "metadata": {},
   "source": [
    "⚠️ **Remember to limit your output before submission**."
   ]
  },
  {
   "cell_type": "code",
   "execution_count": 7,
   "metadata": {},
   "outputs": [
    {
     "data": {
      "text/plain": [
       "[{'sha': '62ccb107c540872cb332b10768b890040fb50c1f',\n",
       "  'node_id': 'MDY6Q29tbWl0MzA0MjQ4NTM5OjYyY2NiMTA3YzU0MDg3MmNiMzMyYjEwNzY4Yjg5MDA0MGZiNTBjMWY=',\n",
       "  'commit': {'author': {'name': 'Ras Soyungalgo',\n",
       "    'email': 'agalvezcorell@gmail.com',\n",
       "    'date': '2021-01-26T13:00:09Z'},\n",
       "   'committer': {'name': 'Ras Soyungalgo',\n",
       "    'email': 'agalvezcorell@gmail.com',\n",
       "    'date': '2021-01-26T13:00:09Z'},\n",
       "   'message': 'edito challenge1 sin cambios, solo comment',\n",
       "   'tree': {'sha': '1fb3ebfb5f65d6ec77ea4b1666b95f5e6e09ac63',\n",
       "    'url': 'https://api.github.com/repos/ironhack-datalabs/datamad1020-rev/git/trees/1fb3ebfb5f65d6ec77ea4b1666b95f5e6e09ac63'},\n",
       "   'url': 'https://api.github.com/repos/ironhack-datalabs/datamad1020-rev/git/commits/62ccb107c540872cb332b10768b890040fb50c1f',\n",
       "   'comment_count': 0,\n",
       "   'verification': {'verified': False,\n",
       "    'reason': 'unsigned',\n",
       "    'signature': None,\n",
       "    'payload': None}},\n",
       "  'url': 'https://api.github.com/repos/ironhack-datalabs/datamad1020-rev/commits/62ccb107c540872cb332b10768b890040fb50c1f',\n",
       "  'html_url': 'https://github.com/ironhack-datalabs/datamad1020-rev/commit/62ccb107c540872cb332b10768b890040fb50c1f',\n",
       "  'comments_url': 'https://api.github.com/repos/ironhack-datalabs/datamad1020-rev/commits/62ccb107c540872cb332b10768b890040fb50c1f/comments',\n",
       "  'author': {'login': 'agalvezcorell',\n",
       "   'id': 57899051,\n",
       "   'node_id': 'MDQ6VXNlcjU3ODk5MDUx',\n",
       "   'avatar_url': 'https://avatars.githubusercontent.com/u/57899051?v=4',\n",
       "   'gravatar_id': '',\n",
       "   'url': 'https://api.github.com/users/agalvezcorell',\n",
       "   'html_url': 'https://github.com/agalvezcorell',\n",
       "   'followers_url': 'https://api.github.com/users/agalvezcorell/followers',\n",
       "   'following_url': 'https://api.github.com/users/agalvezcorell/following{/other_user}',\n",
       "   'gists_url': 'https://api.github.com/users/agalvezcorell/gists{/gist_id}',\n",
       "   'starred_url': 'https://api.github.com/users/agalvezcorell/starred{/owner}{/repo}',\n",
       "   'subscriptions_url': 'https://api.github.com/users/agalvezcorell/subscriptions',\n",
       "   'organizations_url': 'https://api.github.com/users/agalvezcorell/orgs',\n",
       "   'repos_url': 'https://api.github.com/users/agalvezcorell/repos',\n",
       "   'events_url': 'https://api.github.com/users/agalvezcorell/events{/privacy}',\n",
       "   'received_events_url': 'https://api.github.com/users/agalvezcorell/received_events',\n",
       "   'type': 'User',\n",
       "   'site_admin': False},\n",
       "  'committer': {'login': 'agalvezcorell',\n",
       "   'id': 57899051,\n",
       "   'node_id': 'MDQ6VXNlcjU3ODk5MDUx',\n",
       "   'avatar_url': 'https://avatars.githubusercontent.com/u/57899051?v=4',\n",
       "   'gravatar_id': '',\n",
       "   'url': 'https://api.github.com/users/agalvezcorell',\n",
       "   'html_url': 'https://github.com/agalvezcorell',\n",
       "   'followers_url': 'https://api.github.com/users/agalvezcorell/followers',\n",
       "   'following_url': 'https://api.github.com/users/agalvezcorell/following{/other_user}',\n",
       "   'gists_url': 'https://api.github.com/users/agalvezcorell/gists{/gist_id}',\n",
       "   'starred_url': 'https://api.github.com/users/agalvezcorell/starred{/owner}{/repo}',\n",
       "   'subscriptions_url': 'https://api.github.com/users/agalvezcorell/subscriptions',\n",
       "   'organizations_url': 'https://api.github.com/users/agalvezcorell/orgs',\n",
       "   'repos_url': 'https://api.github.com/users/agalvezcorell/repos',\n",
       "   'events_url': 'https://api.github.com/users/agalvezcorell/events{/privacy}',\n",
       "   'received_events_url': 'https://api.github.com/users/agalvezcorell/received_events',\n",
       "   'type': 'User',\n",
       "   'site_admin': False},\n",
       "  'parents': [{'sha': 'f3a48ac39f43cb8130695180360f5644eeefd309',\n",
       "    'url': 'https://api.github.com/repos/ironhack-datalabs/datamad1020-rev/commits/f3a48ac39f43cb8130695180360f5644eeefd309',\n",
       "    'html_url': 'https://github.com/ironhack-datalabs/datamad1020-rev/commit/f3a48ac39f43cb8130695180360f5644eeefd309'}]}]"
      ]
     },
     "execution_count": 7,
     "metadata": {},
     "output_type": "execute_result"
    }
   ],
   "source": [
    "#Your code\n",
    "url = \"https://api.github.com/repos/ironhack-datalabs/datamad1020-rev/commits\"\n",
    "\n",
    "token = open(\"../token.txt\").readlines()[0]\n",
    "\n",
    "token = {\"Authorization\": f\"token {token}\"          \n",
    "         }\n",
    "\n",
    "params = {\"since\": \"2021-01-19\"\n",
    "         }\n",
    "\n",
    "commits = requests.get(url, headers = token, params = params)\n",
    "commits.status_code\n",
    "\n",
    "commits = commits.json()"
   ]
  },
  {
   "cell_type": "code",
   "execution_count": 40,
   "metadata": {},
   "outputs": [
    {
     "name": "stdout",
     "output_type": "stream",
     "text": [
      "dict_keys(['sha', 'node_id', 'commit', 'url', 'html_url', 'comments_url', 'author', 'committer', 'parents'])\n"
     ]
    },
    {
     "data": {
      "text/plain": [
       "{'author': {'name': 'Ras Soyungalgo',\n",
       "  'email': 'agalvezcorell@gmail.com',\n",
       "  'date': '2021-01-26T13:00:09Z'},\n",
       " 'committer': {'name': 'Ras Soyungalgo',\n",
       "  'email': 'agalvezcorell@gmail.com',\n",
       "  'date': '2021-01-26T13:00:09Z'},\n",
       " 'message': 'edito challenge1 sin cambios, solo comment',\n",
       " 'tree': {'sha': '1fb3ebfb5f65d6ec77ea4b1666b95f5e6e09ac63',\n",
       "  'url': 'https://api.github.com/repos/ironhack-datalabs/datamad1020-rev/git/trees/1fb3ebfb5f65d6ec77ea4b1666b95f5e6e09ac63'},\n",
       " 'url': 'https://api.github.com/repos/ironhack-datalabs/datamad1020-rev/git/commits/62ccb107c540872cb332b10768b890040fb50c1f',\n",
       " 'comment_count': 0,\n",
       " 'verification': {'verified': False,\n",
       "  'reason': 'unsigned',\n",
       "  'signature': None,\n",
       "  'payload': None}}"
      ]
     },
     "execution_count": 40,
     "metadata": {},
     "output_type": "execute_result"
    }
   ],
   "source": [
    "# Para los commits de la semana pasada\n",
    "\n",
    "for dicts in commits:\n",
    "    print(dicts.keys())\n",
    "    \n",
    "dicts['commit']"
   ]
  },
  {
   "cell_type": "code",
   "execution_count": null,
   "metadata": {},
   "outputs": [],
   "source": [
    "#Obtain all the commits made in the past week via API, which is a JSON array that contains multiple commit objects.\n",
    "\n"
   ]
  },
  {
   "cell_type": "code",
   "execution_count": 18,
   "metadata": {},
   "outputs": [
    {
     "name": "stdout",
     "output_type": "stream",
     "text": [
      "2\n"
     ]
    }
   ],
   "source": [
    "#Count how many commit objects are contained in the array.\n",
    "count = 0\n",
    "for dicts in commits:\n",
    "    for key in dicts:\n",
    "        if \"commit\" in key:\n",
    "            count += 1\n",
    "print(count)\n",
    "        \n",
    "    "
   ]
  },
  {
   "cell_type": "markdown",
   "metadata": {},
   "source": [
    "## Challenge 3: Hidden Cold Joke\n",
    "\n",
    "Using Python, call Github API to find out the cold joke contained in the 24 secret files in the following repo:\n",
    "\n",
    "https://github.com/ironhack-datalabs/scavenger\n",
    "\n",
    "The filenames of the secret files contain .scavengerhunt and they are scattered in different directories of this repo. The secret files are named from .0001.scavengerhunt to .0024.scavengerhunt. They are scattered randomly throughout this repo. You need to search for these files by calling the Github API, not searching the local files on your computer.\n",
    "\n",
    "\n",
    "After you find out the secrete files:\n",
    "\n",
    "Sort the filenames ascendingly.\n",
    "\n",
    "Read the content of each secret files into an array of strings.\n",
    "\n",
    "Concatenate the strings in the array separating each two with a whitespace.\n",
    "\n",
    "Print out the joke.\n"
   ]
  },
  {
   "cell_type": "markdown",
   "metadata": {},
   "source": [
    "⚠️ **Remember to limit your output before submission**."
   ]
  },
  {
   "cell_type": "code",
   "execution_count": null,
   "metadata": {},
   "outputs": [],
   "source": [
    "# Your code"
   ]
  },
  {
   "cell_type": "code",
   "execution_count": null,
   "metadata": {},
   "outputs": [],
   "source": [
    "# Example: print(variable[:10]) "
   ]
  }
 ],
 "metadata": {
  "kernelspec": {
   "display_name": "Python 3",
   "language": "python",
   "name": "python3"
  },
  "language_info": {
   "codemirror_mode": {
    "name": "ipython",
    "version": 3
   },
   "file_extension": ".py",
   "mimetype": "text/x-python",
   "name": "python",
   "nbconvert_exporter": "python",
   "pygments_lexer": "ipython3",
   "version": "3.8.5"
  }
 },
 "nbformat": 4,
 "nbformat_minor": 2
}
